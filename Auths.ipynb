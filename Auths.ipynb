{
 "cells": [
  {
   "cell_type": "markdown",
   "id": "checked-equilibrium",
   "metadata": {},
   "source": [
    "#### Imports and settings"
   ]
  },
  {
   "cell_type": "code",
   "execution_count": 1,
   "id": "fitted-australian",
   "metadata": {},
   "outputs": [],
   "source": [
    "from archery_person.auths import Auth, create_tables\n",
    "from archery_person.secrets import Secret\n",
    "\n",
    "\n",
    "me = {\n",
    "    'username': 'eniocsj',\n",
    "    'password': 'v3ry57r0n6p45Sw0rd4n07h1n6',\n",
    "    'email': 'eniocsjunior@gmail.com'\n",
    "}\n",
    "new_password = '0nly+0n357r0n6p45sw0rd4n07h1n6'\n",
    "new_email = 'eniocsj@mail.com'"
   ]
  },
  {
   "cell_type": "markdown",
   "id": "abstract-synthesis",
   "metadata": {},
   "source": [
    "#### Drop databases"
   ]
  },
  {
   "cell_type": "code",
   "execution_count": 2,
   "id": "typical-sugar",
   "metadata": {},
   "outputs": [
    {
     "name": "stdout",
     "output_type": "stream",
     "text": [
      "2021-04-06 11:56:39,978 INFO sqlalchemy.engine.Engine select version()\n",
      "2021-04-06 11:56:39,996 INFO sqlalchemy.engine.Engine [raw sql] {}\n",
      "2021-04-06 11:56:40,011 INFO sqlalchemy.engine.Engine select current_schema()\n",
      "2021-04-06 11:56:40,016 INFO sqlalchemy.engine.Engine [raw sql] {}\n",
      "2021-04-06 11:56:40,033 INFO sqlalchemy.engine.Engine show standard_conforming_strings\n",
      "2021-04-06 11:56:40,036 INFO sqlalchemy.engine.Engine [raw sql] {}\n",
      "2021-04-06 11:56:40,047 INFO sqlalchemy.engine.Engine BEGIN (implicit)\n",
      "2021-04-06 11:56:40,057 INFO sqlalchemy.engine.Engine select relname from pg_class c join pg_namespace n on n.oid=c.relnamespace where pg_catalog.pg_table_is_visible(c.oid) and relname=%(name)s\n",
      "2021-04-06 11:56:40,064 INFO sqlalchemy.engine.Engine [generated in 0.00739s] {'name': 'roles'}\n",
      "2021-04-06 11:56:40,079 INFO sqlalchemy.engine.Engine select relname from pg_class c join pg_namespace n on n.oid=c.relnamespace where pg_catalog.pg_table_is_visible(c.oid) and relname=%(name)s\n",
      "2021-04-06 11:56:40,083 INFO sqlalchemy.engine.Engine [cached since 0.02566s ago] {'name': 'persons'}\n",
      "2021-04-06 11:56:40,090 INFO sqlalchemy.engine.Engine \n",
      "DROP TABLE persons\n",
      "2021-04-06 11:56:40,093 INFO sqlalchemy.engine.Engine [no key 0.00220s] {}\n",
      "2021-04-06 11:56:40,110 INFO sqlalchemy.engine.Engine \n",
      "DROP TABLE roles\n",
      "2021-04-06 11:56:40,112 INFO sqlalchemy.engine.Engine [no key 0.00244s] {}\n",
      "2021-04-06 11:56:40,122 INFO sqlalchemy.engine.Engine COMMIT\n",
      "2021-04-06 11:56:40,679 INFO sqlalchemy.engine.Engine BEGIN (implicit)\n",
      "2021-04-06 11:56:40,683 INFO sqlalchemy.engine.Engine select relname from pg_class c join pg_namespace n on n.oid=c.relnamespace where pg_catalog.pg_table_is_visible(c.oid) and relname=%(name)s\n",
      "2021-04-06 11:56:40,685 INFO sqlalchemy.engine.Engine [cached since 0.6284s ago] {'name': 'roles'}\n",
      "2021-04-06 11:56:40,690 INFO sqlalchemy.engine.Engine select relname from pg_class c join pg_namespace n on n.oid=c.relnamespace where pg_catalog.pg_table_is_visible(c.oid) and relname=%(name)s\n",
      "2021-04-06 11:56:40,693 INFO sqlalchemy.engine.Engine [cached since 0.636s ago] {'name': 'persons'}\n",
      "2021-04-06 11:56:40,700 INFO sqlalchemy.engine.Engine \n",
      "CREATE TABLE roles (\n",
      "\tid UUID NOT NULL, \n",
      "\tname VARCHAR(15) NOT NULL, \n",
      "\tdescription VARCHAR(50) NOT NULL, \n",
      "\tPRIMARY KEY (id), \n",
      "\tUNIQUE (name)\n",
      ")\n",
      "\n",
      "\n",
      "2021-04-06 11:56:40,704 INFO sqlalchemy.engine.Engine [no key 0.00419s] {}\n",
      "2021-04-06 11:56:41,605 INFO sqlalchemy.engine.Engine \n",
      "CREATE TABLE persons (\n",
      "\tid UUID NOT NULL, \n",
      "\temail VARCHAR(50) NOT NULL, \n",
      "\tusername VARCHAR(25) NOT NULL, \n",
      "\tpassword VARCHAR(125) NOT NULL, \n",
      "\trole UUID, \n",
      "\tcreate_in TIMESTAMP WITHOUT TIME ZONE, \n",
      "\tenabled BOOLEAN, \n",
      "\tPRIMARY KEY (id), \n",
      "\tUNIQUE (email), \n",
      "\tUNIQUE (username), \n",
      "\tFOREIGN KEY(role) REFERENCES roles (id)\n",
      ")\n",
      "\n",
      "\n",
      "2021-04-06 11:56:41,611 INFO sqlalchemy.engine.Engine [no key 0.00620s] {}\n",
      "2021-04-06 11:56:41,891 INFO sqlalchemy.engine.Engine COMMIT\n"
     ]
    }
   ],
   "source": [
    "create_tables()"
   ]
  },
  {
   "cell_type": "markdown",
   "id": "nearby-surge",
   "metadata": {},
   "source": [
    "#### Create person"
   ]
  },
  {
   "cell_type": "code",
   "execution_count": 3,
   "id": "opening-impact",
   "metadata": {},
   "outputs": [
    {
     "name": "stdout",
     "output_type": "stream",
     "text": [
      "2021-04-06 11:56:43,567 INFO sqlalchemy.engine.Engine BEGIN (implicit)\n",
      "2021-04-06 11:56:43,576 INFO sqlalchemy.engine.Engine INSERT INTO persons (id, email, username, password, role, create_in, enabled) VALUES (%(id)s, %(email)s, %(username)s, %(password)s, %(role)s, %(create_in)s, %(enabled)s)\n",
      "2021-04-06 11:56:43,583 INFO sqlalchemy.engine.Engine [generated in 0.00666s] {'id': UUID('687ad397-cd6a-4946-a734-4299600dce7c'), 'email': 'eniocsjunior@gmail.com', 'username': 'eniocsj', 'password': '$argon2id$v=19$m=102400,t=2,p=8$B2udEWfnmyFxRirYXVIAQQ$gIvEWH3XCtC1zdc4ms4lcw', 'role': None, 'create_in': datetime.datetime(2021, 4, 6, 11, 56, 39, 659978), 'enabled': False}\n",
      "2021-04-06 11:56:43,594 INFO sqlalchemy.engine.Engine COMMIT\n"
     ]
    }
   ],
   "source": [
    "person = Auth(\n",
    "    Secret()\n",
    ")\n",
    "person.add(**me)"
   ]
  },
  {
   "cell_type": "markdown",
   "id": "chinese-shape",
   "metadata": {},
   "source": [
    "#### Change password"
   ]
  },
  {
   "cell_type": "code",
   "execution_count": 4,
   "id": "australian-resistance",
   "metadata": {},
   "outputs": [
    {
     "name": "stdout",
     "output_type": "stream",
     "text": [
      "2021-04-06 11:56:43,646 INFO sqlalchemy.engine.Engine BEGIN (implicit)\n",
      "2021-04-06 11:56:43,675 INFO sqlalchemy.engine.Engine SELECT persons.id AS persons_id, persons.email AS persons_email, persons.username AS persons_username, persons.password AS persons_password, persons.role AS persons_role, persons.create_in AS persons_create_in, persons.enabled AS persons_enabled \n",
      "FROM persons \n",
      "WHERE persons.username = %(username_1)s \n",
      " LIMIT %(param_1)s\n",
      "2021-04-06 11:56:43,680 INFO sqlalchemy.engine.Engine [generated in 0.00467s] {'username_1': 'eniocsj', 'param_1': 1}\n",
      "2021-04-06 11:56:44,498 INFO sqlalchemy.engine.Engine UPDATE persons SET password=%(password)s WHERE persons.id = %(persons_id)s\n",
      "2021-04-06 11:56:44,501 INFO sqlalchemy.engine.Engine [generated in 0.00390s] {'password': '$argon2id$v=19$m=102400,t=2,p=8$iYuuqVzvMdxAa6OMJPZUhQ$1Guynpr8w3UkAMijuZUmhA', 'persons_id': UUID('687ad397-cd6a-4946-a734-4299600dce7c')}\n",
      "2021-04-06 11:56:44,510 INFO sqlalchemy.engine.Engine COMMIT\n"
     ]
    },
    {
     "data": {
      "text/plain": [
       "True"
      ]
     },
     "execution_count": 4,
     "metadata": {},
     "output_type": "execute_result"
    }
   ],
   "source": [
    "person.change_password(\n",
    "    username=me['username'],\n",
    "    password=new_password\n",
    ")"
   ]
  },
  {
   "cell_type": "markdown",
   "id": "nasty-receiver",
   "metadata": {},
   "source": [
    "#### Show person"
   ]
  },
  {
   "cell_type": "code",
   "execution_count": 5,
   "id": "subject-aspect",
   "metadata": {},
   "outputs": [
    {
     "name": "stdout",
     "output_type": "stream",
     "text": [
      "2021-04-06 11:56:44,621 INFO sqlalchemy.engine.Engine BEGIN (implicit)\n",
      "2021-04-06 11:56:44,643 INFO sqlalchemy.engine.Engine SELECT persons.id AS persons_id, persons.email AS persons_email, persons.username AS persons_username, persons.password AS persons_password, persons.role AS persons_role, persons.create_in AS persons_create_in, persons.enabled AS persons_enabled \n",
      "FROM persons \n",
      "WHERE persons.username = %(username_1)s \n",
      " LIMIT %(param_1)s\n",
      "2021-04-06 11:56:44,652 INFO sqlalchemy.engine.Engine [cached since 0.9768s ago] {'username_1': 'eniocsj', 'param_1': 1}\n",
      "{'id': 'gAAAAABgbHat8_yi7rhktoqkl9SENIKX3oZYTyX6jxO96502Vv4-KbGKx_dPfX_bG4sBpRCELwOHC9YqAGfbmsMBIP0LR5-QZGTvO2MvQ_XokqECuDtjcVyVeLQJR-m4o8xIRSK7WAxO', 'username': 'eniocsj', 'email': 'eniocsjunior@gmail.com', 'role': None, 'enabled': False}\n"
     ]
    }
   ],
   "source": [
    "myself = person.login(\n",
    "    username=me['username'],\n",
    "    password=new_password\n",
    ")\n",
    "print(myself)"
   ]
  },
  {
   "cell_type": "markdown",
   "id": "alike-innocent",
   "metadata": {},
   "source": [
    "#### Change email"
   ]
  },
  {
   "cell_type": "code",
   "execution_count": 6,
   "id": "documented-bacteria",
   "metadata": {},
   "outputs": [
    {
     "name": "stdout",
     "output_type": "stream",
     "text": [
      "2021-04-06 11:56:45,858 INFO sqlalchemy.engine.Engine SELECT persons.id AS persons_id, persons.email AS persons_email, persons.username AS persons_username, persons.password AS persons_password, persons.role AS persons_role, persons.create_in AS persons_create_in, persons.enabled AS persons_enabled \n",
      "FROM persons \n",
      "WHERE persons.username = %(username_1)s \n",
      " LIMIT %(param_1)s\n",
      "2021-04-06 11:56:45,864 INFO sqlalchemy.engine.Engine [cached since 2.189s ago] {'username_1': 'eniocsj', 'param_1': 1}\n",
      "2021-04-06 11:56:45,873 INFO sqlalchemy.engine.Engine UPDATE persons SET email=%(email)s WHERE persons.id = %(persons_id)s\n",
      "2021-04-06 11:56:45,877 INFO sqlalchemy.engine.Engine [generated in 0.00454s] {'email': False, 'persons_id': UUID('687ad397-cd6a-4946-a734-4299600dce7c')}\n",
      "2021-04-06 11:56:45,892 INFO sqlalchemy.engine.Engine COMMIT\n"
     ]
    },
    {
     "data": {
      "text/plain": [
       "True"
      ]
     },
     "execution_count": 6,
     "metadata": {},
     "output_type": "execute_result"
    }
   ],
   "source": [
    "person.change_email(\n",
    "    username=me['username'],\n",
    "    email=new_email\n",
    ")"
   ]
  },
  {
   "cell_type": "code",
   "execution_count": 7,
   "id": "collected-bolivia",
   "metadata": {},
   "outputs": [
    {
     "name": "stdout",
     "output_type": "stream",
     "text": [
      "{'_Auth__secret': <archery_person.secrets.Secret object at 0x7fe02c57fd90>, '_Auth__session': <sqlalchemy.orm.session.Session object at 0x7fe01d9ec9d0>, 'id': 'gAAAAABgbHat8_yi7rhktoqkl9SENIKX3oZYTyX6jxO96502Vv4-KbGKx_dPfX_bG4sBpRCELwOHC9YqAGfbmsMBIP0LR5-QZGTvO2MvQ_XokqECuDtjcVyVeLQJR-m4o8xIRSK7WAxO', 'username': 'eniocsj', 'email': 'eniocsjunior@gmail.com', 'role': None, 'enabled': False}\n"
     ]
    }
   ],
   "source": [
    "print(person.__dict__)"
   ]
  }
 ],
 "metadata": {
  "kernelspec": {
   "display_name": "Python 3",
   "language": "python",
   "name": "python3"
  },
  "language_info": {
   "codemirror_mode": {
    "name": "ipython",
    "version": 3
   },
   "file_extension": ".py",
   "mimetype": "text/x-python",
   "name": "python",
   "nbconvert_exporter": "python",
   "pygments_lexer": "ipython3",
   "version": "3.9.2"
  }
 },
 "nbformat": 4,
 "nbformat_minor": 5
}
