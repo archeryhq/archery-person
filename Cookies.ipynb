{
 "cells": [
  {
   "cell_type": "markdown",
   "id": "mexican-drive",
   "metadata": {},
   "source": [
    "#### Import and settings"
   ]
  },
  {
   "cell_type": "code",
   "execution_count": 1,
   "id": "legislative-lawsuit",
   "metadata": {
    "tags": []
   },
   "outputs": [],
   "source": [
    "from archery_person.secrets import Secret\n",
    "from archery_person.cookies import Cookie\n",
    "\n",
    "\n",
    "secret = Secret()\n",
    "cookie = Cookie(secret)\n",
    "person = {\n",
    "    'id': '1234',\n",
    "    'username': 'eniocsj',\n",
    "    'email': 'eniocsj@mail.com',\n",
    "    'enabled': False,\n",
    "    'role': None\n",
    "}"
   ]
  },
  {
   "cell_type": "markdown",
   "id": "earned-offset",
   "metadata": {},
   "source": [
    "#### Set cookie"
   ]
  },
  {
   "cell_type": "code",
   "execution_count": 2,
   "id": "supposed-lecture",
   "metadata": {},
   "outputs": [
    {
     "data": {
      "text/plain": [
       "'pwI12l16V8azuAYvwy1UzQJMbvLQDfq_j0r4h9-Wa90='"
      ]
     },
     "execution_count": 2,
     "metadata": {},
     "output_type": "execute_result"
    }
   ],
   "source": [
    "first_cookie = cookie.new(\n",
    "    person=person\n",
    ")\n",
    "first_cookie"
   ]
  },
  {
   "cell_type": "markdown",
   "id": "ancient-persian",
   "metadata": {},
   "source": [
    "#### Get cookie"
   ]
  },
  {
   "cell_type": "code",
   "execution_count": 3,
   "id": "clean-january",
   "metadata": {
    "tags": []
   },
   "outputs": [
    {
     "data": {
      "text/plain": [
       "{'id': 'gAAAAABgbHekDrHnRBBAUyUZlY4YuYXvsGy09HpExXoRabDyMmW0jqc5KrQHp5lMSt44Y59A6ZiBFqI5_R3Ts2_0ARN1XxHdKQ==',\n",
       " 'username': 'eniocsj',\n",
       " 'email': 'eniocsj@mail.com',\n",
       " 'enabled': False,\n",
       " 'role': None}"
      ]
     },
     "execution_count": 3,
     "metadata": {},
     "output_type": "execute_result"
    }
   ],
   "source": [
    "my_cookie = cookie.get(first_cookie)\n",
    "my_cookie"
   ]
  },
  {
   "cell_type": "markdown",
   "id": "electronic-valentine",
   "metadata": {},
   "source": [
    "#### Generate new cookie"
   ]
  },
  {
   "cell_type": "code",
   "execution_count": 4,
   "id": "extra-reading",
   "metadata": {},
   "outputs": [
    {
     "data": {
      "text/plain": [
       "{'cookie': 'QTZkcWGkPckyZWjZC5spB9C9TdTmtA_n2UcZEATcRKI=',\n",
       " 'username': 'eniocsj',\n",
       " 'email': 'eniocsj@mail.com',\n",
       " 'enabled': False,\n",
       " 'role': None}"
      ]
     },
     "execution_count": 4,
     "metadata": {},
     "output_type": "execute_result"
    }
   ],
   "source": [
    "new_cookie = cookie.renew(first_cookie)\n",
    "new_cookie"
   ]
  },
  {
   "cell_type": "code",
   "execution_count": 5,
   "id": "liquid-bicycle",
   "metadata": {},
   "outputs": [
    {
     "data": {
      "text/plain": [
       "{'id': 'gAAAAABgbHekDrHnRBBAUyUZlY4YuYXvsGy09HpExXoRabDyMmW0jqc5KrQHp5lMSt44Y59A6ZiBFqI5_R3Ts2_0ARN1XxHdKQ==',\n",
       " 'username': 'eniocsj',\n",
       " 'email': 'eniocsj@mail.com',\n",
       " 'enabled': False,\n",
       " 'role': None}"
      ]
     },
     "execution_count": 5,
     "metadata": {},
     "output_type": "execute_result"
    }
   ],
   "source": [
    "other_cookie = cookie.get(new_cookie['cookie'])\n",
    "other_cookie"
   ]
  },
  {
   "cell_type": "code",
   "execution_count": 6,
   "id": "compressed-moses",
   "metadata": {},
   "outputs": [
    {
     "data": {
      "text/plain": [
       "'1234'"
      ]
     },
     "execution_count": 6,
     "metadata": {},
     "output_type": "execute_result"
    }
   ],
   "source": [
    "secret = Secret()\n",
    "secret.decrypt(other_cookie['id'])"
   ]
  },
  {
   "cell_type": "code",
   "execution_count": null,
   "id": "little-forestry",
   "metadata": {},
   "outputs": [],
   "source": []
  }
 ],
 "metadata": {
  "kernelspec": {
   "display_name": "Python 3",
   "language": "python",
   "name": "python3"
  },
  "language_info": {
   "codemirror_mode": {
    "name": "ipython",
    "version": 3
   },
   "file_extension": ".py",
   "mimetype": "text/x-python",
   "name": "python",
   "nbconvert_exporter": "python",
   "pygments_lexer": "ipython3",
   "version": "3.9.2"
  }
 },
 "nbformat": 4,
 "nbformat_minor": 5
}
