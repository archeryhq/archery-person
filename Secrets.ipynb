{
 "cells": [
  {
   "cell_type": "markdown",
   "id": "accepting-wright",
   "metadata": {},
   "source": [
    "#### Imports and settings"
   ]
  },
  {
   "cell_type": "code",
   "execution_count": 1,
   "id": "executive-correction",
   "metadata": {},
   "outputs": [],
   "source": [
    "from archery_person.secrets import Secret\n",
    "\n",
    "\n",
    "secret = Secret()\n",
    "message = 'The very amazing wonderful secret'"
   ]
  },
  {
   "cell_type": "markdown",
   "id": "eligible-isaac",
   "metadata": {},
   "source": [
    "#### Generate randomic key"
   ]
  },
  {
   "cell_type": "code",
   "execution_count": 2,
   "id": "gorgeous-communication",
   "metadata": {},
   "outputs": [
    {
     "data": {
      "text/plain": [
       "'Srsbb-MDOWt9Nw9Uc5AfvwW4hf9BhmT7IsU3e-8IJYQ='"
      ]
     },
     "execution_count": 2,
     "metadata": {},
     "output_type": "execute_result"
    }
   ],
   "source": [
    "key = secret.randomic\n",
    "key"
   ]
  },
  {
   "cell_type": "markdown",
   "id": "sunrise-basin",
   "metadata": {},
   "source": [
    "#### Generate secret from message"
   ]
  },
  {
   "cell_type": "code",
   "execution_count": 3,
   "id": "instrumental-princeton",
   "metadata": {},
   "outputs": [
    {
     "data": {
      "text/plain": [
       "'$argon2id$v=19$m=102400,t=2,p=8$E/n8WMGrHuLKgfoylP9jMA$s9m01ijq08Zhva+7MvVPOg'"
      ]
     },
     "execution_count": 3,
     "metadata": {},
     "output_type": "execute_result"
    }
   ],
   "source": [
    "secret_message = secret.generate(message)\n",
    "secret_message"
   ]
  },
  {
   "cell_type": "markdown",
   "id": "official-proposition",
   "metadata": {
    "jupyter": {
     "source_hidden": true
    },
    "tags": []
   },
   "source": [
    "#### Verify secret"
   ]
  },
  {
   "cell_type": "code",
   "execution_count": 4,
   "id": "marine-jewel",
   "metadata": {},
   "outputs": [
    {
     "data": {
      "text/plain": [
       "True"
      ]
     },
     "execution_count": 4,
     "metadata": {},
     "output_type": "execute_result"
    }
   ],
   "source": [
    "right = secret.verify(secret_message, message)\n",
    "right"
   ]
  },
  {
   "cell_type": "code",
   "execution_count": 5,
   "id": "overhead-remainder",
   "metadata": {},
   "outputs": [
    {
     "data": {
      "text/plain": [
       "False"
      ]
     },
     "execution_count": 5,
     "metadata": {},
     "output_type": "execute_result"
    }
   ],
   "source": [
    "wrong = secret.verify(message, secret_message)\n",
    "wrong"
   ]
  },
  {
   "cell_type": "markdown",
   "id": "wound-dublin",
   "metadata": {},
   "source": [
    "#### Encrypt message"
   ]
  },
  {
   "cell_type": "code",
   "execution_count": 6,
   "id": "surface-webmaster",
   "metadata": {},
   "outputs": [
    {
     "data": {
      "text/plain": [
       "'gAAAAABgbHeRmV-hnCCptNnq4A__PxeEpYgBoKBGWHtbyzHQopFHhpjf1JfwmP76nUS7-CVBO8b-7hknSbi5SKg-aSF9WyHMDXk1HRMGtKGEXT4JpZ9XHMaks875FfGam2ZF215BRSX8'"
      ]
     },
     "execution_count": 6,
     "metadata": {},
     "output_type": "execute_result"
    }
   ],
   "source": [
    "encrypt = secret.encrypt(message)\n",
    "encrypt"
   ]
  },
  {
   "cell_type": "markdown",
   "id": "purple-missile",
   "metadata": {},
   "source": [
    "#### Decrypt message"
   ]
  },
  {
   "cell_type": "code",
   "execution_count": 7,
   "id": "separated-wilson",
   "metadata": {},
   "outputs": [
    {
     "data": {
      "text/plain": [
       "'The very amazing wonderful secret'"
      ]
     },
     "execution_count": 7,
     "metadata": {},
     "output_type": "execute_result"
    }
   ],
   "source": [
    "decrypt = secret.decrypt(encrypt)\n",
    "decrypt"
   ]
  }
 ],
 "metadata": {
  "kernelspec": {
   "display_name": "Python 3",
   "language": "python",
   "name": "python3"
  },
  "language_info": {
   "codemirror_mode": {
    "name": "ipython",
    "version": 3
   },
   "file_extension": ".py",
   "mimetype": "text/x-python",
   "name": "python",
   "nbconvert_exporter": "python",
   "pygments_lexer": "ipython3",
   "version": "3.9.2"
  }
 },
 "nbformat": 4,
 "nbformat_minor": 5
}
