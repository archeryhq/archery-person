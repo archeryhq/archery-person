{
 "cells": [
  {
   "cell_type": "markdown",
   "id": "rural-model",
   "metadata": {},
   "source": [
    "#### Imports and settings"
   ]
  },
  {
   "cell_type": "code",
   "execution_count": 1,
   "id": "documentary-complaint",
   "metadata": {
    "tags": []
   },
   "outputs": [
    {
     "name": "stdout",
     "output_type": "stream",
     "text": [
      "2021-04-06 12:01:32,791 INFO sqlalchemy.engine.Engine select version()\n",
      "2021-04-06 12:01:32,795 INFO sqlalchemy.engine.Engine [raw sql] {}\n",
      "2021-04-06 12:01:32,806 INFO sqlalchemy.engine.Engine select current_schema()\n",
      "2021-04-06 12:01:32,810 INFO sqlalchemy.engine.Engine [raw sql] {}\n",
      "2021-04-06 12:01:32,815 INFO sqlalchemy.engine.Engine show standard_conforming_strings\n",
      "2021-04-06 12:01:32,818 INFO sqlalchemy.engine.Engine [raw sql] {}\n",
      "2021-04-06 12:01:32,824 INFO sqlalchemy.engine.Engine BEGIN (implicit)\n",
      "2021-04-06 12:01:32,832 INFO sqlalchemy.engine.Engine select relname from pg_class c join pg_namespace n on n.oid=c.relnamespace where pg_catalog.pg_table_is_visible(c.oid) and relname=%(name)s\n",
      "2021-04-06 12:01:32,835 INFO sqlalchemy.engine.Engine [generated in 0.00318s] {'name': 'roles'}\n",
      "2021-04-06 12:01:32,842 INFO sqlalchemy.engine.Engine select relname from pg_class c join pg_namespace n on n.oid=c.relnamespace where pg_catalog.pg_table_is_visible(c.oid) and relname=%(name)s\n",
      "2021-04-06 12:01:32,845 INFO sqlalchemy.engine.Engine [cached since 0.01272s ago] {'name': 'persons'}\n",
      "2021-04-06 12:01:32,850 INFO sqlalchemy.engine.Engine \n",
      "DROP TABLE persons\n",
      "2021-04-06 12:01:32,853 INFO sqlalchemy.engine.Engine [no key 0.00323s] {}\n",
      "2021-04-06 12:01:32,864 INFO sqlalchemy.engine.Engine \n",
      "DROP TABLE roles\n",
      "2021-04-06 12:01:32,867 INFO sqlalchemy.engine.Engine [no key 0.00297s] {}\n",
      "2021-04-06 12:01:32,873 INFO sqlalchemy.engine.Engine COMMIT\n",
      "2021-04-06 12:01:33,443 INFO sqlalchemy.engine.Engine BEGIN (implicit)\n",
      "2021-04-06 12:01:33,447 INFO sqlalchemy.engine.Engine select relname from pg_class c join pg_namespace n on n.oid=c.relnamespace where pg_catalog.pg_table_is_visible(c.oid) and relname=%(name)s\n",
      "2021-04-06 12:01:33,449 INFO sqlalchemy.engine.Engine [cached since 0.6173s ago] {'name': 'roles'}\n",
      "2021-04-06 12:01:33,462 INFO sqlalchemy.engine.Engine select relname from pg_class c join pg_namespace n on n.oid=c.relnamespace where pg_catalog.pg_table_is_visible(c.oid) and relname=%(name)s\n",
      "2021-04-06 12:01:33,464 INFO sqlalchemy.engine.Engine [cached since 0.632s ago] {'name': 'persons'}\n",
      "2021-04-06 12:01:33,476 INFO sqlalchemy.engine.Engine \n",
      "CREATE TABLE roles (\n",
      "\tid UUID NOT NULL, \n",
      "\tname VARCHAR(15) NOT NULL, \n",
      "\tdescription VARCHAR(50) NOT NULL, \n",
      "\tPRIMARY KEY (id), \n",
      "\tUNIQUE (name)\n",
      ")\n",
      "\n",
      "\n",
      "2021-04-06 12:01:33,478 INFO sqlalchemy.engine.Engine [no key 0.00212s] {}\n",
      "2021-04-06 12:01:33,829 INFO sqlalchemy.engine.Engine \n",
      "CREATE TABLE persons (\n",
      "\tid UUID NOT NULL, \n",
      "\temail VARCHAR(50) NOT NULL, \n",
      "\tusername VARCHAR(25) NOT NULL, \n",
      "\tpassword VARCHAR(125) NOT NULL, \n",
      "\trole UUID, \n",
      "\tcreate_in TIMESTAMP WITHOUT TIME ZONE, \n",
      "\tenabled BOOLEAN, \n",
      "\tPRIMARY KEY (id), \n",
      "\tUNIQUE (email), \n",
      "\tUNIQUE (username), \n",
      "\tFOREIGN KEY(role) REFERENCES roles (id)\n",
      ")\n",
      "\n",
      "\n",
      "2021-04-06 12:01:33,834 INFO sqlalchemy.engine.Engine [no key 0.00476s] {}\n",
      "2021-04-06 12:01:33,897 INFO sqlalchemy.engine.Engine COMMIT\n"
     ]
    }
   ],
   "source": [
    "from archery_person.auths import create_tables\n",
    "from archery_person.persons import Person\n",
    "\n",
    "\n",
    "person = Person()\n",
    "\n",
    "me = {\n",
    "    'username': 'eniocsj',\n",
    "    'email': 'eniocsjunior@gmail.com',\n",
    "    'password': 'V3ry57r0n6p45sw0rd4n07h1n6'\n",
    "}\n",
    "\n",
    "create_tables()"
   ]
  },
  {
   "cell_type": "markdown",
   "id": "french-modeling",
   "metadata": {},
   "source": [
    "#### Create person"
   ]
  },
  {
   "cell_type": "code",
   "execution_count": 2,
   "id": "minimal-cornwall",
   "metadata": {},
   "outputs": [
    {
     "name": "stdout",
     "output_type": "stream",
     "text": [
      "2021-04-06 12:01:35,810 INFO sqlalchemy.engine.Engine BEGIN (implicit)\n",
      "2021-04-06 12:01:35,845 INFO sqlalchemy.engine.Engine INSERT INTO persons (id, email, username, password, role, create_in, enabled) VALUES (%(id)s, %(email)s, %(username)s, %(password)s, %(role)s, %(create_in)s, %(enabled)s)\n",
      "2021-04-06 12:01:35,851 INFO sqlalchemy.engine.Engine [generated in 0.00626s] {'id': UUID('5233473c-bf0d-4c00-a0ee-c4e380bcb461'), 'email': 'eniocsjunior@gmail.com', 'username': 'eniocsj', 'password': '$argon2id$v=19$m=102400,t=2,p=8$IpYwdID+OKgpKKXZTDFT3w$rrnpUADQptbQuULbrBfy4w', 'role': None, 'create_in': datetime.datetime(2021, 4, 6, 12, 1, 32, 537371), 'enabled': False}\n",
      "2021-04-06 12:01:35,866 INFO sqlalchemy.engine.Engine COMMIT\n"
     ]
    },
    {
     "data": {
      "text/plain": [
       "True"
      ]
     },
     "execution_count": 2,
     "metadata": {},
     "output_type": "execute_result"
    }
   ],
   "source": [
    "myself = person.create(\n",
    "    username=me['username'],\n",
    "    email=me['email'],\n",
    "    password=me['password']\n",
    ")\n",
    "myself"
   ]
  },
  {
   "cell_type": "markdown",
   "id": "pretty-parker",
   "metadata": {},
   "source": [
    "#### Person login"
   ]
  },
  {
   "cell_type": "code",
   "execution_count": 3,
   "id": "smooth-sailing",
   "metadata": {},
   "outputs": [
    {
     "name": "stdout",
     "output_type": "stream",
     "text": [
      "2021-04-06 12:01:36,507 INFO sqlalchemy.engine.Engine BEGIN (implicit)\n",
      "2021-04-06 12:01:36,539 INFO sqlalchemy.engine.Engine SELECT persons.id AS persons_id, persons.email AS persons_email, persons.username AS persons_username, persons.password AS persons_password, persons.role AS persons_role, persons.create_in AS persons_create_in, persons.enabled AS persons_enabled \n",
      "FROM persons \n",
      "WHERE persons.username = %(username_1)s \n",
      " LIMIT %(param_1)s\n",
      "2021-04-06 12:01:36,547 INFO sqlalchemy.engine.Engine [generated in 0.00885s] {'username_1': 'eniocsj', 'param_1': 1}\n"
     ]
    },
    {
     "data": {
      "text/plain": [
       "'i8t2SjfdHdlREALkxBwTxuzPlsBZrsRKqL-m1Z5ffWo='"
      ]
     },
     "execution_count": 3,
     "metadata": {},
     "output_type": "execute_result"
    }
   ],
   "source": [
    "login = person.login(\n",
    "    username=me['username'],\n",
    "    password=me['password']\n",
    ")\n",
    "login"
   ]
  },
  {
   "cell_type": "markdown",
   "id": "dried-taiwan",
   "metadata": {},
   "source": [
    "#### Verify person session"
   ]
  },
  {
   "cell_type": "code",
   "execution_count": 4,
   "id": "continent-mercury",
   "metadata": {},
   "outputs": [
    {
     "data": {
      "text/plain": [
       "'2GPN71ueLtlvLZWyxfsbnVnsDANVDiXvuWWncNtOQMQ='"
      ]
     },
     "execution_count": 4,
     "metadata": {},
     "output_type": "execute_result"
    }
   ],
   "source": [
    "verify = person.renew(\n",
    "    login\n",
    ")\n",
    "verify"
   ]
  },
  {
   "cell_type": "code",
   "execution_count": 5,
   "id": "legislative-piece",
   "metadata": {},
   "outputs": [
    {
     "data": {
      "text/plain": [
       "'07ah2eZu1fwly3pi1JRe55hpPHzvNghGbOMKJcrozWM='"
      ]
     },
     "execution_count": 5,
     "metadata": {},
     "output_type": "execute_result"
    }
   ],
   "source": [
    "new_verify = person.renew(\n",
    "    verify\n",
    ")\n",
    "new_verify"
   ]
  },
  {
   "cell_type": "code",
   "execution_count": 6,
   "id": "secure-insider",
   "metadata": {},
   "outputs": [
    {
     "data": {
      "text/plain": [
       "'Gj9v9cCr1RD3LtlTIcamIX00C24PzvyHDIEz4G_aGtc='"
      ]
     },
     "execution_count": 6,
     "metadata": {},
     "output_type": "execute_result"
    }
   ],
   "source": [
    "person.renew(\n",
    "    new_verify\n",
    ")"
   ]
  },
  {
   "cell_type": "code",
   "execution_count": 7,
   "id": "short-certification",
   "metadata": {},
   "outputs": [
    {
     "data": {
      "text/plain": [
       "{'username': 'eniocsj',\n",
       " 'email': 'eniocsjunior@gmail.com',\n",
       " 'enabled': False,\n",
       " 'role': None,\n",
       " 'cookie': 'Gj9v9cCr1RD3LtlTIcamIX00C24PzvyHDIEz4G_aGtc='}"
      ]
     },
     "execution_count": 7,
     "metadata": {},
     "output_type": "execute_result"
    }
   ],
   "source": [
    "person.__dict__"
   ]
  }
 ],
 "metadata": {
  "kernelspec": {
   "display_name": "Python 3",
   "language": "python",
   "name": "python3"
  },
  "language_info": {
   "codemirror_mode": {
    "name": "ipython",
    "version": 3
   },
   "file_extension": ".py",
   "mimetype": "text/x-python",
   "name": "python",
   "nbconvert_exporter": "python",
   "pygments_lexer": "ipython3",
   "version": "3.9.2"
  }
 },
 "nbformat": 4,
 "nbformat_minor": 5
}
