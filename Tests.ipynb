{
 "cells": [
  {
   "cell_type": "markdown",
   "id": "3ee99f31",
   "metadata": {},
   "source": [
    "#### Imports and settings"
   ]
  },
  {
   "cell_type": "code",
   "execution_count": 1,
   "id": "2d8c68b8",
   "metadata": {
    "tags": []
   },
   "outputs": [
    {
     "data": {
      "text/plain": [
       "True"
      ]
     },
     "execution_count": 1,
     "metadata": {},
     "output_type": "execute_result"
    }
   ],
   "source": [
    "from archery_auth import renew\n",
    "from archery_person import Person\n",
    "\n",
    "\n",
    "person = Person()\n",
    "\n",
    "me = {\n",
    "    'username': 'eniocsj',\n",
    "    'email': 'eniocsjunior@gmail.com',\n",
    "    'password': 'V3ry57r0n6p45sw0rd4n07h1n6'\n",
    "}\n",
    "\n",
    "renew()"
   ]
  },
  {
   "cell_type": "markdown",
   "id": "49d64d14",
   "metadata": {},
   "source": [
    "#### Create person"
   ]
  },
  {
   "cell_type": "code",
   "execution_count": 2,
   "id": "c849f191",
   "metadata": {},
   "outputs": [
    {
     "data": {
      "text/plain": [
       "True"
      ]
     },
     "execution_count": 2,
     "metadata": {},
     "output_type": "execute_result"
    }
   ],
   "source": [
    "myself = person.create(\n",
    "    username=me['username'],\n",
    "    email=me['email'],\n",
    "    password=me['password']\n",
    ")\n",
    "myself"
   ]
  },
  {
   "cell_type": "markdown",
   "id": "317d3ae9",
   "metadata": {},
   "source": [
    "#### Person login"
   ]
  },
  {
   "cell_type": "code",
   "execution_count": 3,
   "id": "9bb209e9",
   "metadata": {},
   "outputs": [
    {
     "data": {
      "text/plain": [
       "'5tdMzJIVWbm7ItacFr3jysCfncbb21D2ydcjWCxobyo='"
      ]
     },
     "execution_count": 3,
     "metadata": {},
     "output_type": "execute_result"
    }
   ],
   "source": [
    "login = person.login(\n",
    "    username=me['username'],\n",
    "    password=me['password']\n",
    ")\n",
    "login"
   ]
  },
  {
   "cell_type": "markdown",
   "id": "2606541f",
   "metadata": {},
   "source": [
    "#### Verify person session"
   ]
  },
  {
   "cell_type": "code",
   "execution_count": 4,
   "id": "bb988a3d",
   "metadata": {},
   "outputs": [
    {
     "data": {
      "text/plain": [
       "'6MyNXYye23i3jlhhQ6wiSC-yq0zWkePVnXJ-ZiRct-Q='"
      ]
     },
     "execution_count": 4,
     "metadata": {},
     "output_type": "execute_result"
    }
   ],
   "source": [
    "verify = person.renew(\n",
    "    login\n",
    ")\n",
    "verify"
   ]
  },
  {
   "cell_type": "code",
   "execution_count": 5,
   "id": "9e8389ce",
   "metadata": {},
   "outputs": [
    {
     "data": {
      "text/plain": [
       "'KHjep7wtO5QpHxjZAOSaw4rkPxdMo4NKV3wlRSX3ET8='"
      ]
     },
     "execution_count": 5,
     "metadata": {},
     "output_type": "execute_result"
    }
   ],
   "source": [
    "new_verify = person.renew(\n",
    "    verify\n",
    ")\n",
    "new_verify"
   ]
  },
  {
   "cell_type": "code",
   "execution_count": 6,
   "id": "aafb892d",
   "metadata": {},
   "outputs": [
    {
     "data": {
      "text/plain": [
       "'prvY16g9VGdERtsEASarFiVjkdnixYuhuXbv_8huubc='"
      ]
     },
     "execution_count": 6,
     "metadata": {},
     "output_type": "execute_result"
    }
   ],
   "source": [
    "person.renew(\n",
    "    new_verify\n",
    ")"
   ]
  },
  {
   "cell_type": "code",
   "execution_count": 7,
   "id": "d45ebe0f",
   "metadata": {},
   "outputs": [
    {
     "data": {
      "text/plain": [
       "{'username': 'eniocsj',\n",
       " 'email': 'eniocsjunior@gmail.com',\n",
       " 'enabled': False,\n",
       " 'role': None,\n",
       " 'cookie': 'prvY16g9VGdERtsEASarFiVjkdnixYuhuXbv_8huubc='}"
      ]
     },
     "execution_count": 7,
     "metadata": {},
     "output_type": "execute_result"
    }
   ],
   "source": [
    "person.__dict__"
   ]
  }
 ],
 "metadata": {
  "kernelspec": {
   "display_name": "Python 3",
   "language": "python",
   "name": "python3"
  },
  "language_info": {
   "codemirror_mode": {
    "name": "ipython",
    "version": 3
   },
   "file_extension": ".py",
   "mimetype": "text/x-python",
   "name": "python",
   "nbconvert_exporter": "python",
   "pygments_lexer": "ipython3",
   "version": "3.9.2"
  }
 },
 "nbformat": 4,
 "nbformat_minor": 5
}
